{
 "cells": [
  {
   "cell_type": "markdown",
   "metadata": {},
   "source": [
    "# Import libraries"
   ]
  },
  {
   "cell_type": "code",
   "execution_count": 1,
   "metadata": {},
   "outputs": [],
   "source": [
    "import pandas as pd\n",
    "import warnings\n",
    "warnings.filterwarnings(\"ignore\")"
   ]
  },
  {
   "cell_type": "markdown",
   "metadata": {},
   "source": [
    "# Import datasets"
   ]
  },
  {
   "cell_type": "code",
   "execution_count": null,
   "metadata": {},
   "outputs": [],
   "source": [
    "df = pd.read_csv('')\n",
    "df.columns"
   ]
  },
  {
   "cell_type": "markdown",
   "metadata": {},
   "source": [
    "# Exploring dataset"
   ]
  },
  {
   "cell_type": "code",
   "execution_count": null,
   "metadata": {},
   "outputs": [],
   "source": [
    "# Selecting relevant features\n",
    "df = df[['track_name', 'artists', 'artist_genres', 'explicit','album_name', 'release_year', 'danceability',\n",
    "           'energy', 'key','loudness', 'mode', 'speechiness', 'acousticness',\n",
    "           'instrumentalness', 'liveness', 'valence', 'tempo', 'time_signature']]"
   ]
  },
  {
   "cell_type": "code",
   "execution_count": null,
   "metadata": {},
   "outputs": [],
   "source": [
    "# Removing symbols from artists names\n",
    "df['artists'] = df['artists'].str.replace(r\"['\\[\\]]\", '', regex=True)"
   ]
  },
  {
   "cell_type": "code",
   "execution_count": null,
   "metadata": {},
   "outputs": [],
   "source": [
    "# Processing artists genres to fit the purpose of the project\n",
    "import ast\n",
    "\n",
    "list_of_lists = [ast.literal_eval(s) for s in df['artist_genres']]\n",
    "df['artist_genres'] = [sublist[0] if sublist else None for sublist in list_of_lists]\n",
    "df['artist_genres'].fillna(\"unknown\", inplace=True)"
   ]
  },
  {
   "cell_type": "code",
   "execution_count": null,
   "metadata": {},
   "outputs": [],
   "source": [
    "# Renaming column\n",
    "df.rename(columns={'track_name':'name'}, inplace=True)"
   ]
  },
  {
   "cell_type": "code",
   "execution_count": null,
   "metadata": {},
   "outputs": [],
   "source": [
    "df.info() # Summary of DataFrame information\n",
    "\n",
    "print('\\nNumber of unique values in each column')\n",
    "for i in df.columns:\n",
    "    print(f'{i} - {df[i].nunique()}')\n",
    "\n",
    "print('\\nNumber of missing values in each column\\n', df.isnull().sum())\n",
    "\n",
    "print('\\nNumber of duplicated rows\\n', df.duplicated().sum())"
   ]
  },
  {
   "cell_type": "code",
   "execution_count": null,
   "metadata": {},
   "outputs": [],
   "source": [
    "# Dropping rows with empty values\n",
    "df = df.dropna()\n",
    "print('Length of the dataset:', len(df))"
   ]
  },
  {
   "cell_type": "code",
   "execution_count": null,
   "metadata": {},
   "outputs": [],
   "source": [
    "# Setting value type to integer\n",
    "df['explicit'] = df['explicit'].astype(int)\n",
    "df['release_year'] = df['release_year'].astype(int)"
   ]
  },
  {
   "cell_type": "code",
   "execution_count": null,
   "metadata": {},
   "outputs": [],
   "source": [
    " Applying Label Encoder to artist genre values\n",
    "from sklearn.preprocessing import LabelEncoder\n",
    "\n",
    "label_encoder = LabelEncoder()\n",
    "df['artist_genres_encoded'] = label_encoder.fit_transform(df['artist_genres'])"
   ]
  },
  {
   "cell_type": "code",
   "execution_count": null,
   "metadata": {},
   "outputs": [],
   "source": [
    "df.describe()"
   ]
  },
  {
   "cell_type": "code",
   "execution_count": null,
   "metadata": {},
   "outputs": [],
   "source": [
    "# Reseting dataframe index\n",
    "df.reset_index(drop=True, inplace=True)"
   ]
  },
  {
   "cell_type": "markdown",
   "metadata": {},
   "source": [
    "# Exploratory Data Analysis (EDA)\n"
   ]
  },
  {
   "cell_type": "markdown",
   "metadata": {},
   "source": [
    "import matplotlib.pyplot as plt\n",
    "import seaborn as sns\n",
    "plt.style.use('seaborn-v0_8-bright')\n",
    "colors = sns.color_palette('bright')\n",
    "\n",
    "fig, axes = plt.subplots(1, 4, figsize=(15, 4))  # 1 row, 4 columns\n",
    "\n",
    "for i, name in enumerate(['explicit', 'key', 'mode', 'time_signature']):\n",
    "    axes[i].pie(df[name].value_counts(), labels=df[name].unique(), autopct='%1.1f%%', startangle=45)\n",
    "    axes[i].set_title(f'{name}')\n",
    "\n",
    "# Display the plot\n",
    "plt.tight_layout()\n",
    "plt.show()"
   ]
  },
  {
   "cell_type": "code",
   "execution_count": null,
   "metadata": {},
   "outputs": [],
   "source": [
    "#Top 10 genres based on frequency\n",
    "plt.figure(figsize=(15, 4))\n",
    "df['artist_genres'].value_counts().head(10).iloc[1:].plot(kind='barh',title='Top genres')\n",
    "plt.ylabel('Music Genres')\n",
    "plt.grid(True)\n",
    "plt.show()"
   ]
  },
  {
   "cell_type": "code",
   "execution_count": null,
   "metadata": {},
   "outputs": [],
   "source": [
    "#Top 10 artists based on frequency \n",
    "plt.figure(figsize=(15, 4))\n",
    "df['artists'].value_counts().head(10).plot(kind='barh',title='Top artists')\n",
    "plt.ylabel('Artists')\n",
    "plt.grid(True)\n",
    "plt.show()"
   ]
  },
  {
   "cell_type": "code",
   "execution_count": null,
   "metadata": {},
   "outputs": [],
   "source": [
    "# Histogram Analysis of Continuous Variables\n",
    "for i in df.drop(['explicit', 'key', 'mode', 'time_signature', 'name', 'artists', 'album_name', 'artist_genres', 'artist_genres_encoded'],axis=1):\n",
    "    fig, ax = plt.subplots(figsize=(15, 4))\n",
    "    fig = sns.histplot(data=df, x=i, bins=50, kde=True)\n",
    "    fig.set_title(f'{i} Count')\n",
    "    fig.grid(True)\n",
    "    plt.show()"
   ]
  },
  {
   "cell_type": "code",
   "execution_count": null,
   "metadata": {},
   "outputs": [],
   "source": [
    "# Pairwise Scatter Plot Analysis of Music Attributes\n",
    "from itertools import combinations\n",
    "import matplotlib.patches as mpatches\n",
    "\n",
    "for i, j in combinations(['release_year', 'danceability', 'energy', 'loudness', 'speechiness', 'acousticness', 'instrumentalness', 'liveness', 'valence', 'tempo', 'artist_genres_encoded'], 2):\n",
    "    fig, ax = plt.subplots(figsize=(15, 5))\n",
    "    plt.scatter(df[i],df[j], alpha=0.2, s=30, edgecolor=\"none\")\n",
    "    plt.xlabel(i)\n",
    "    plt.ylabel(j)\n",
    "    plt.title(f'{i} and {j}')\n",
    "    plt.grid(True)\n",
    "    plt.show()"
   ]
  },
  {
   "cell_type": "code",
   "execution_count": null,
   "metadata": {},
   "outputs": [],
   "source": [
    "# Correlation matrix\n",
    "import numpy as np\n",
    "\n",
    "plt.figure(figsize=(15,6))\n",
    "plt.imshow(df[df.select_dtypes(np.number).columns].corr(), vmin=-1, vmax=1)\n",
    "plt.xticks(range(len(df.select_dtypes(np.number).columns)), df.select_dtypes(np.number).columns, rotation=45, ha='right')\n",
    "plt.yticks(range(len(df.select_dtypes(np.number).columns)), df.select_dtypes(np.number).columns)\n",
    "plt.title('Correlation matrix')\n",
    "plt.grid(True)\n",
    "plt.colorbar()\n",
    "\n",
    "plt.show()"
   ]
  },
  {
   "cell_type": "markdown",
   "metadata": {},
   "source": [
    "# Data Preprocessing"
   ]
  },
  {
   "cell_type": "code",
   "execution_count": null,
   "metadata": {},
   "outputs": [],
   "source": [
    "# Selecting training features (numerate columns)\n",
    "features = df.select_dtypes(np.number).columns"
   ]
  },
  {
   "cell_type": "code",
   "execution_count": null,
   "metadata": {},
   "outputs": [],
   "source": [
    "# Rescaling data using Standard Scaler\n",
    "from sklearn.preprocessing import StandardScaler\n",
    "\n",
    "scaler = StandardScaler()\n",
    "df_scaled = scaler.fit_transform(df[features])\n",
    "\n",
    "df_scaled = pd.DataFrame(df_scaled, columns=features)"
   ]
  },
  {
   "cell_type": "code",
   "execution_count": null,
   "metadata": {},
   "outputs": [],
   "source": [
    "df_scaled.head()"
   ]
  },
  {
   "cell_type": "markdown",
   "metadata": {},
   "source": [
    "# Clustering"
   ]
  },
  {
   "cell_type": "code",
   "execution_count": null,
   "metadata": {},
   "outputs": [],
   "source": [
    "# Elbow Method to determine the number of clusters to be formed\n",
    "from yellowbrick.cluster import KElbowVisualizer\n",
    "from sklearn.cluster import KMeans\n",
    "\n",
    "plt.figure(figsize=(15,5)) \n",
    "Elbow_M = KElbowVisualizer(KMeans(n_init='auto'), k=20)\n",
    "Elbow_M.fit(df_scaled)\n",
    "Elbow_M.show()"
   ]
  },
  {
   "cell_type": "code",
   "execution_count": null,
   "metadata": {},
   "outputs": [],
   "source": [
    "# Using KMeans model 11 clusters\n",
    "model = KMeans(n_clusters=11, n_init='auto')\n",
    "model.fit(df_scaled)\n",
    "\n",
    "df_scaled[\"Cluster\"] = model.labels_"
   ]
  },
  {
   "cell_type": "code",
   "execution_count": null,
   "metadata": {},
   "outputs": [],
   "source": [
    "# Visualizing the Clusters with PCA\n",
    "import plotly.express as px \n",
    "from sklearn.decomposition import PCA\n",
    "\n",
    "pca = PCA(n_components=2)\n",
    "embedding = pca.fit_transform(df_scaled)\n",
    "projection = pd.DataFrame(columns=['x', 'y'], data=embedding)\n",
    "projection['title'] = df['name']\n",
    "projection['genre'] = df['artist_genres']\n",
    "projection['cluster'] = df_scaled['Cluster']\n",
    "\n",
    "fig = px.scatter(\n",
    "    projection, x='x', y='y', color='cluster', hover_data=['x', 'y', 'genre'])\n",
    "fig.show()"
   ]
  },
  {
   "cell_type": "markdown",
   "metadata": {},
   "source": [
    "# Setting up Recommendation System"
   ]
  },
  {
   "cell_type": "code",
   "execution_count": null,
   "metadata": {},
   "outputs": [],
   "source": [
    "# Re-adding string features (Name, Artist, Genre, Album)\n",
    "df_scaled = df_scaled.join(df[df.drop(features, axis=1).columns])"
   ]
  },
  {
   "cell_type": "code",
   "execution_count": null,
   "metadata": {},
   "outputs": [],
   "source": [
    "# Re-adding Year feature\n",
    "df_scaled['release_year'] = df['release_year']"
   ]
  },
  {
   "cell_type": "code",
   "execution_count": null,
   "metadata": {},
   "outputs": [],
   "source": [
    "df_scaled.head()"
   ]
  },
  {
   "cell_type": "code",
   "execution_count": null,
   "metadata": {},
   "outputs": [],
   "source": [
    "# Installing Spotipy library\n",
    "pip install spotipy"
   ]
  },
  {
   "cell_type": "code",
   "execution_count": null,
   "metadata": {},
   "outputs": [],
   "source": [
    "import spotipy\n",
    "from spotipy.oauth2 import SpotifyClientCredentials\n",
    "from kaggle_secrets import UserSecretsClient\n",
    "\n",
    "# Initializing Kaggle secrets\n",
    "user_secrets = UserSecretsClient()\n",
    "\n",
    "# Setting up Spotipy with Kaggle secrets\n",
    "sp = spotipy.Spotify(auth_manager=SpotifyClientCredentials(client_id=user_secrets.get_secret(\"Client ID\"),\n",
    "                                                           client_secret=user_secrets.get_secret(\"Client secret\")))"
   ]
  },
  {
   "cell_type": "code",
   "execution_count": null,
   "metadata": {},
   "outputs": [],
   "source": [
    "# Defining function for finding song on Spotify\n",
    "from collections import defaultdict\n",
    "\n",
    "def find_song(name, artists):\n",
    "    \n",
    "    song_data = defaultdict() # Setting up song dictionary\n",
    "    \n",
    "    song_results = sp.search(q= 'track: {} artist: {}'.format(name, artists), limit=1) # Searching for song data using song and artist name\n",
    "    if song_results['tracks']['items'] == []:\n",
    "        return None\n",
    "    \n",
    "    artist_results = sp.search(q= 'track: {} artist: {}'.format(name, artists), type='artist', limit=1) # Searching for artist data using song and artist name\n",
    "\n",
    "    results = song_results['tracks']['items'][0]\n",
    "    track_id = results['id']\n",
    "    audio_features = sp.audio_features(track_id)[0] # Getting song audio features\n",
    "\n",
    "    song_data['name'] = [name]\n",
    "    song_data['release_year'] = [pd.to_datetime(results['album']['release_date']).year]\n",
    "    song_data['explicit'] = [int(results['explicit'])]\n",
    "    genres = artist_results['artists']['items'][0]['genres']\n",
    "    if genres != []:\n",
    "        song_data['artist_genres_encoded'] = [label_encoder.transform([genres[0]])]\n",
    "    else:\n",
    "        song_data['artist_genres_encoded'] = [label_encoder.transform(['unknown'])]\n",
    "\n",
    "    for key, value in audio_features.items():\n",
    "        song_data[key] = value\n",
    "\n",
    "    return pd.DataFrame(song_data)"
   ]
  },
  {
   "cell_type": "code",
   "execution_count": null,
   "metadata": {},
   "outputs": [],
   "source": [
    "# Selecting training features (numerate columns)\n",
    "number_cols = df.select_dtypes(np.number).columns\n",
    "\n",
    "# Defining function for getting song data\n",
    "def get_song_data(song, spotify_data):\n",
    "    \n",
    "    try: # Try to find song in imported data\n",
    "        song_data = spotify_data[(spotify_data['name'] == song['name']) \n",
    "                                & (spotify_data['artists'] == song['artists'])].iloc[0]\n",
    "        return song_data\n",
    "    \n",
    "    except IndexError: # If song not found, it will be retrieved from Spotify\n",
    "        return find_song(song['name'], song['artists'])"
   ]
  },
  {
   "cell_type": "code",
   "execution_count": null,
   "metadata": {},
   "outputs": [],
   "source": [
    "# Defining function for getting mean vector of the song\n",
    "def get_mean_vector(song_list, spotify_data):\n",
    "    \n",
    "    song_vectors = []\n",
    "    \n",
    "    for song in song_list:\n",
    "        song_data = get_song_data(song, spotify_data) # Getting song data from user input\n",
    "        if song_data is None:\n",
    "            print('Warning: {} does not exist in Spotify or in database'.format(song['name'])) # Returing Warning if song does not exist in Spotify\n",
    "            continue\n",
    "        song_vector = song_data[number_cols].values # Getting audio features of the data\n",
    "        song_vectors.append(song_vector)\n",
    "    \n",
    "    song_matrix = np.array(list(song_vectors))\n",
    "    return np.mean(song_matrix, axis=0)"
   ]
  },
  {
   "cell_type": "code",
   "execution_count": null,
   "metadata": {},
   "outputs": [],
   "source": [
    "# Defining function for transforming a list of dictionaries\n",
    "def flatten_dict_list(dict_list):\n",
    "    \n",
    "    flattened_dict = defaultdict()\n",
    "    \n",
    "    # Assign keys for dictionary\n",
    "    for key in dict_list[0].keys():\n",
    "        flattened_dict[key] = []\n",
    "    \n",
    "    # Append data to the dictionary\n",
    "    for dictionary in dict_list:\n",
    "        for key, value in dictionary.items():\n",
    "            flattened_dict[key].append(value)\n",
    "            \n",
    "    return flattened_dict"
   ]
  },
  {
   "cell_type": "code",
   "execution_count": null,
   "metadata": {},
   "outputs": [],
   "source": [
    "from scipy.spatial.distance import cdist\n",
    "\n",
    "# Defining function for getting song recommendations\n",
    "def recommend_songs(song_list, spotify_data, n_songs=5): # Number of songs to be recommended - 5\n",
    "    \n",
    "    metadata_cols = ['name', 'artists', 'album_name', 'release_year', 'artist_genres'] # Features to be returned with recommendations\n",
    "    \n",
    "    # Applying pre-processing functions\n",
    "    song_dict = flatten_dict_list(song_list)\n",
    "    song_center = get_mean_vector(song_list, spotify_data) \n",
    "    \n",
    "    # Scaling data\n",
    "    scaled_data = scaler.transform(spotify_data[number_cols])\n",
    "    scaled_song_center = scaler.transform(song_center.reshape(1, -1))\n",
    "    \n",
    "    # Computing distances\n",
    "    distances = cdist(scaled_song_center, scaled_data, 'cosine')\n",
    "    index = list(np.argsort(distances)[:, :n_songs][0])\n",
    "    \n",
    "    # Getting recommended songs\n",
    "    rec_songs = spotify_data.iloc[index]\n",
    "    rec_songs = rec_songs[~rec_songs['name'].isin(song_dict['name'])]\n",
    "\n",
    "    return rec_songs[metadata_cols].to_dict(orient='records')"
   ]
  },
  {
   "cell_type": "markdown",
   "metadata": {},
   "source": [
    "# Inference"
   ]
  },
  {
   "cell_type": "code",
   "execution_count": null,
   "metadata": {},
   "outputs": [],
   "source": [
    "# Asking for recommendations based on Taylor Swift's Imagine\n",
    "pd.DataFrame(recommend_songs([{'name': 'Imagine', 'artists': 'Taylor Swift'}],  df_scaled))"
   ]
  },
  {
   "cell_type": "code",
   "execution_count": null,
   "metadata": {},
   "outputs": [],
   "source": [
    "# Asking for recommendations based on Lauv's I Like Me Better\n",
    "pd.DataFrame(recommend_songs([{'name': 'I Like Me Better', 'artists': 'Lauv'}],  df_scaled))"
   ]
  },
  {
   "cell_type": "code",
   "execution_count": null,
   "metadata": {},
   "outputs": [],
   "source": [
    "# Asking for recommendations based on One Direction's Half A Heart\n",
    "pd.DataFrame(recommend_songs([{'name': 'Half A Heart', 'artists': 'One Direction'}],  df_scaled))"
   ]
  }
 ],
 "metadata": {
  "kernelspec": {
   "display_name": "spotify_venv",
   "language": "python",
   "name": "python3"
  },
  "language_info": {
   "codemirror_mode": {
    "name": "ipython",
    "version": 3
   },
   "file_extension": ".py",
   "mimetype": "text/x-python",
   "name": "python",
   "nbconvert_exporter": "python",
   "pygments_lexer": "ipython3",
   "version": "3.10.9"
  }
 },
 "nbformat": 4,
 "nbformat_minor": 2
}
